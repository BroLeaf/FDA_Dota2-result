{
 "cells": [
  {
   "cell_type": "markdown",
   "metadata": {},
   "source": [
    "# Preprocessing"
   ]
  },
  {
   "cell_type": "code",
   "execution_count": 1,
   "metadata": {},
   "outputs": [],
   "source": [
    "import numpy as np\n",
    "import pandas as pd\n",
    "import matplotlib.pyplot as plt\n",
    "import seaborn as sns\n",
    "from sklearn.tree import DecisionTreeClassifier\n",
    "from sklearn.ensemble import RandomForestClassifier\n",
    "from sklearn.neural_network import MLPClassifier"
   ]
  },
  {
   "cell_type": "markdown",
   "metadata": {},
   "source": [
    "## Add Attributes name\n",
    "\n",
    "The raw data doesn't name any Attribute.\n",
    "\n",
    "Attributes' mean see : https://archive.ics.uci.edu/ml/datasets/Dota2+Games+Results"
   ]
  },
  {
   "cell_type": "code",
   "execution_count": 2,
   "metadata": {},
   "outputs": [],
   "source": [
    "Attributes = ['Team-won', 'Cluster-ID', 'Game-mode', 'Game-type']\n",
    "for i in range(0, 113):\n",
    "    Attributes.append('hero' + str(i))"
   ]
  },
  {
   "cell_type": "code",
   "execution_count": 3,
   "metadata": {},
   "outputs": [],
   "source": [
    "train = pd.read_csv('input/dota2Train.csv', names=Attributes)\n",
    "test = pd.read_csv('input/dota2Test.csv', names=Attributes)"
   ]
  },
  {
   "cell_type": "code",
   "execution_count": 4,
   "metadata": {},
   "outputs": [
    {
     "data": {
      "text/html": [
       "<div>\n",
       "<style scoped>\n",
       "    .dataframe tbody tr th:only-of-type {\n",
       "        vertical-align: middle;\n",
       "    }\n",
       "\n",
       "    .dataframe tbody tr th {\n",
       "        vertical-align: top;\n",
       "    }\n",
       "\n",
       "    .dataframe thead th {\n",
       "        text-align: right;\n",
       "    }\n",
       "</style>\n",
       "<table border=\"1\" class=\"dataframe\">\n",
       "  <thead>\n",
       "    <tr style=\"text-align: right;\">\n",
       "      <th></th>\n",
       "      <th>Team-won</th>\n",
       "      <th>Cluster-ID</th>\n",
       "      <th>Game-mode</th>\n",
       "      <th>Game-type</th>\n",
       "      <th>hero0</th>\n",
       "      <th>hero1</th>\n",
       "      <th>hero2</th>\n",
       "      <th>hero3</th>\n",
       "      <th>hero4</th>\n",
       "      <th>hero5</th>\n",
       "      <th>...</th>\n",
       "      <th>hero103</th>\n",
       "      <th>hero104</th>\n",
       "      <th>hero105</th>\n",
       "      <th>hero106</th>\n",
       "      <th>hero107</th>\n",
       "      <th>hero108</th>\n",
       "      <th>hero109</th>\n",
       "      <th>hero110</th>\n",
       "      <th>hero111</th>\n",
       "      <th>hero112</th>\n",
       "    </tr>\n",
       "  </thead>\n",
       "  <tbody>\n",
       "    <tr>\n",
       "      <th>0</th>\n",
       "      <td>-1</td>\n",
       "      <td>223</td>\n",
       "      <td>2</td>\n",
       "      <td>2</td>\n",
       "      <td>0</td>\n",
       "      <td>0</td>\n",
       "      <td>0</td>\n",
       "      <td>0</td>\n",
       "      <td>0</td>\n",
       "      <td>0</td>\n",
       "      <td>...</td>\n",
       "      <td>0</td>\n",
       "      <td>0</td>\n",
       "      <td>0</td>\n",
       "      <td>0</td>\n",
       "      <td>0</td>\n",
       "      <td>0</td>\n",
       "      <td>0</td>\n",
       "      <td>0</td>\n",
       "      <td>0</td>\n",
       "      <td>0</td>\n",
       "    </tr>\n",
       "    <tr>\n",
       "      <th>1</th>\n",
       "      <td>1</td>\n",
       "      <td>152</td>\n",
       "      <td>2</td>\n",
       "      <td>2</td>\n",
       "      <td>0</td>\n",
       "      <td>0</td>\n",
       "      <td>0</td>\n",
       "      <td>1</td>\n",
       "      <td>0</td>\n",
       "      <td>-1</td>\n",
       "      <td>...</td>\n",
       "      <td>0</td>\n",
       "      <td>0</td>\n",
       "      <td>0</td>\n",
       "      <td>0</td>\n",
       "      <td>0</td>\n",
       "      <td>0</td>\n",
       "      <td>0</td>\n",
       "      <td>0</td>\n",
       "      <td>0</td>\n",
       "      <td>0</td>\n",
       "    </tr>\n",
       "    <tr>\n",
       "      <th>2</th>\n",
       "      <td>1</td>\n",
       "      <td>131</td>\n",
       "      <td>2</td>\n",
       "      <td>2</td>\n",
       "      <td>0</td>\n",
       "      <td>0</td>\n",
       "      <td>0</td>\n",
       "      <td>1</td>\n",
       "      <td>0</td>\n",
       "      <td>-1</td>\n",
       "      <td>...</td>\n",
       "      <td>0</td>\n",
       "      <td>0</td>\n",
       "      <td>0</td>\n",
       "      <td>0</td>\n",
       "      <td>0</td>\n",
       "      <td>0</td>\n",
       "      <td>0</td>\n",
       "      <td>0</td>\n",
       "      <td>0</td>\n",
       "      <td>0</td>\n",
       "    </tr>\n",
       "    <tr>\n",
       "      <th>3</th>\n",
       "      <td>1</td>\n",
       "      <td>154</td>\n",
       "      <td>2</td>\n",
       "      <td>2</td>\n",
       "      <td>0</td>\n",
       "      <td>0</td>\n",
       "      <td>0</td>\n",
       "      <td>0</td>\n",
       "      <td>0</td>\n",
       "      <td>0</td>\n",
       "      <td>...</td>\n",
       "      <td>-1</td>\n",
       "      <td>0</td>\n",
       "      <td>0</td>\n",
       "      <td>0</td>\n",
       "      <td>0</td>\n",
       "      <td>0</td>\n",
       "      <td>0</td>\n",
       "      <td>0</td>\n",
       "      <td>0</td>\n",
       "      <td>0</td>\n",
       "    </tr>\n",
       "    <tr>\n",
       "      <th>4</th>\n",
       "      <td>-1</td>\n",
       "      <td>171</td>\n",
       "      <td>2</td>\n",
       "      <td>3</td>\n",
       "      <td>0</td>\n",
       "      <td>0</td>\n",
       "      <td>0</td>\n",
       "      <td>0</td>\n",
       "      <td>0</td>\n",
       "      <td>-1</td>\n",
       "      <td>...</td>\n",
       "      <td>0</td>\n",
       "      <td>0</td>\n",
       "      <td>0</td>\n",
       "      <td>0</td>\n",
       "      <td>0</td>\n",
       "      <td>0</td>\n",
       "      <td>0</td>\n",
       "      <td>0</td>\n",
       "      <td>0</td>\n",
       "      <td>0</td>\n",
       "    </tr>\n",
       "  </tbody>\n",
       "</table>\n",
       "<p>5 rows × 117 columns</p>\n",
       "</div>"
      ],
      "text/plain": [
       "   Team-won  Cluster-ID  Game-mode  Game-type  hero0  hero1  hero2  hero3  \\\n",
       "0        -1         223          2          2      0      0      0      0   \n",
       "1         1         152          2          2      0      0      0      1   \n",
       "2         1         131          2          2      0      0      0      1   \n",
       "3         1         154          2          2      0      0      0      0   \n",
       "4        -1         171          2          3      0      0      0      0   \n",
       "\n",
       "   hero4  hero5  ...  hero103  hero104  hero105  hero106  hero107  hero108  \\\n",
       "0      0      0  ...        0        0        0        0        0        0   \n",
       "1      0     -1  ...        0        0        0        0        0        0   \n",
       "2      0     -1  ...        0        0        0        0        0        0   \n",
       "3      0      0  ...       -1        0        0        0        0        0   \n",
       "4      0     -1  ...        0        0        0        0        0        0   \n",
       "\n",
       "   hero109  hero110  hero111  hero112  \n",
       "0        0        0        0        0  \n",
       "1        0        0        0        0  \n",
       "2        0        0        0        0  \n",
       "3        0        0        0        0  \n",
       "4        0        0        0        0  \n",
       "\n",
       "[5 rows x 117 columns]"
      ]
     },
     "execution_count": 4,
     "metadata": {},
     "output_type": "execute_result"
    }
   ],
   "source": [
    "train.head()"
   ]
  },
  {
   "cell_type": "markdown",
   "metadata": {},
   "source": [
    "Cluster-ID seems don't contribute to my prediction,\n",
    "\n",
    "I **finally** decided to remove the feature.\n",
    "\n",
    "The code I writed here just because of clean code."
   ]
  },
  {
   "cell_type": "code",
   "execution_count": 5,
   "metadata": {},
   "outputs": [],
   "source": [
    "train = train.drop('Cluster-ID', axis = 1)\n",
    "test = test.drop('Cluster-ID', axis = 1)"
   ]
  },
  {
   "cell_type": "markdown",
   "metadata": {},
   "source": [
    "## Target\n",
    "\n",
    "I want to predict which team would win the game in what condition.\n",
    "\n",
    "First I will show some information in the data by visualization or just count value."
   ]
  },
  {
   "cell_type": "markdown",
   "metadata": {},
   "source": [
    "Winrate seems Evenly distributed."
   ]
  },
  {
   "cell_type": "code",
   "execution_count": 6,
   "metadata": {
    "scrolled": true
   },
   "outputs": [
    {
     "name": "stdout",
     "output_type": "stream",
     "text": [
      " 1    0.526519\n",
      "-1    0.473481\n",
      "Name: Team-won, dtype: float64\n",
      " 1    0.534486\n",
      "-1    0.465514\n",
      "Name: Team-won, dtype: float64\n"
     ]
    }
   ],
   "source": [
    "print(train['Team-won'].value_counts()/train.shape[0])\n",
    "print(test['Team-won'].value_counts()/test.shape[0])"
   ]
  },
  {
   "cell_type": "markdown",
   "metadata": {},
   "source": [
    "Below is correlation between features,\n",
    "\n",
    "And I add `hero1` just for compare.\n",
    "\n",
    "The result show all the feature have low correlation to win, so I must find out other way to train my model."
   ]
  },
  {
   "cell_type": "code",
   "execution_count": 7,
   "metadata": {
    "scrolled": true
   },
   "outputs": [
    {
     "data": {
      "image/png": "[encoded data removed]",
      "text/plain": [
       "<Figure size 432x288 with 2 Axes>"
      ]
     },
     "metadata": {},
     "output_type": "display_data"
    }
   ],
   "source": [
    "pd_feature = train[['Team-won', 'Game-mode', 'Game-type', 'hero1']]\n",
    "pd_feature.corr()\n",
    "import seaborn as sns\n",
    "sns.set()\n",
    "ax = sns.heatmap(pd_feature.corr(), annot=True)"
   ]
  },
  {
   "cell_type": "code",
   "execution_count": 8,
   "metadata": {},
   "outputs": [
    {
     "data": {
      "text/plain": [
       "Series([], dtype: int64)"
      ]
     },
     "execution_count": 8,
     "metadata": {},
     "output_type": "execute_result"
    }
   ],
   "source": [
    "count_nu = train.isnull().sum()\n",
    "count_nu[count_nu > 0].sort_values(ascending=False)"
   ]
  },
  {
   "cell_type": "markdown",
   "metadata": {},
   "source": [
    "## Feature combination\n",
    "\n",
    "Beacause the correlation between heros and result is too small, \n",
    "\n",
    "so I would like to combinate feature of Hertos to a new feature or two feature.\n",
    "\n",
    "My thoughts is to compute the win rate of heros, then decide the weight of hero base of his win rate.\n",
    "\n",
    "After the weight is determined, each game's hero multiple his weight and sum them up.\n",
    "\n",
    "Then both two side get their heros' strength, that is the new feature.\n",
    "\n",
    "Take game0 as example, positive side took hero 9, 13 24 27 32,\n",
    "\n",
    "so the `pos_strength[0]` = hero_winrate[9] + hero_winrate[13] + hero_winrate[24] + hero_winrate[27] + hero_winrate[32]\n",
    "\n",
    "negtive side took hero 17, 21, 37, 73, 87\n",
    "\n",
    "so the `neg_strength[0]` = hero_winrate[17] + hero_winrate[21] + hero_winrate[37] + hero_winrate[73] + hero_winrate[87]"
   ]
  },
  {
   "cell_type": "code",
   "execution_count": 9,
   "metadata": {},
   "outputs": [
    {
     "data": {
      "text/plain": [
       "[0.46697388632872505,\n",
       " 0.5270430319778918,\n",
       " 0.4500792393026941,\n",
       " 0.5075200820372586,\n",
       " 0.5476616915422886,\n",
       " 0.5347465437788018,\n",
       " 0.5015963107484924,\n",
       " 0.5043940498135208,\n",
       " 0.5532014478282576,\n",
       " 0.5014785357397777]"
      ]
     },
     "execution_count": 9,
     "metadata": {},
     "output_type": "execute_result"
    }
   ],
   "source": [
    "hero_winrate = []\n",
    "index = []\n",
    "for i in range(0, 113):\n",
    "    win = 0\n",
    "    lose = 0\n",
    "    hero = train.groupby(['hero' + str(i)])\n",
    "    if 1 in list(hero.groups):\n",
    "        ind_pos1 = hero.groups[1]\n",
    "    else:\n",
    "        ind_pos1 = [-1]\n",
    "        \n",
    "    if -1 in list(hero.groups):\n",
    "        ind_neg1 = hero.groups[-1]\n",
    "    else:\n",
    "        ind_neg1 = [-1]\n",
    "        \n",
    "    if ind_pos1[0] != -1:\n",
    "        win += (train['Team-won'][ind_pos1] == 1).value_counts().loc[True]\n",
    "        lose += (train['Team-won'][ind_pos1] == 1).value_counts().loc[False]\n",
    "    if ind_neg1[0] != -1:\n",
    "        win += (train['Team-won'][ind_neg1] == -1).value_counts().loc[True]\n",
    "        lose += (train['Team-won'][ind_neg1] == -1).value_counts().loc[False]\n",
    "    if win+lose != 0:\n",
    "        hero_winrate.append(win/(win+lose))\n",
    "    else:\n",
    "        hero_winrate.append(0)\n",
    "    index.append(i)\n",
    "hero_winrate[:10]"
   ]
  },
  {
   "cell_type": "code",
   "execution_count": 10,
   "metadata": {
    "scrolled": true
   },
   "outputs": [
    {
     "name": "stdout",
     "output_type": "stream",
     "text": [
      "56     0.608534\n",
      "102    0.585669\n",
      "35     0.564451\n",
      "66     0.553874\n",
      "41     0.553476\n",
      "dtype: float64\n",
      "79     0.386032\n",
      "60     0.376020\n",
      "90     0.355528\n",
      "23     0.000000\n",
      "107    0.000000\n",
      "dtype: float64\n"
     ]
    }
   ],
   "source": [
    "hero_winrate = pd.Series(hero_winrate)\n",
    "print(hero_winrate.sort_values(ascending=False).head(5))\n",
    "print(hero_winrate.sort_values(ascending=False).tail(5))"
   ]
  },
  {
   "cell_type": "code",
   "execution_count": 11,
   "metadata": {},
   "outputs": [],
   "source": [
    "strength_compute = train.drop(['Team-won', 'Game-mode', 'Game-type'], axis = 1)\n",
    "pos_strength = []\n",
    "neg_strength = []\n",
    "for i in range (train.shape[0]):\n",
    "    tmp_pos = 0\n",
    "    tmp_neg = 0\n",
    "    pos = strength_compute.loc[i] == 1\n",
    "    neg = strength_compute.loc[i] == -1\n",
    "    for j in range (0,5):\n",
    "        tmp_pos += hero_winrate[int(pos[pos].index[j][4:])]\n",
    "        tmp_neg += hero_winrate[int(neg[neg].index[j][4:])]\n",
    "    pos_strength.append(tmp_pos)\n",
    "    neg_strength.append(tmp_neg)"
   ]
  },
  {
   "cell_type": "code",
   "execution_count": 12,
   "metadata": {
    "scrolled": true
   },
   "outputs": [
    {
     "data": {
      "text/html": [
       "<div>\n",
       "<style scoped>\n",
       "    .dataframe tbody tr th:only-of-type {\n",
       "        vertical-align: middle;\n",
       "    }\n",
       "\n",
       "    .dataframe tbody tr th {\n",
       "        vertical-align: top;\n",
       "    }\n",
       "\n",
       "    .dataframe thead th {\n",
       "        text-align: right;\n",
       "    }\n",
       "</style>\n",
       "<table border=\"1\" class=\"dataframe\">\n",
       "  <thead>\n",
       "    <tr style=\"text-align: right;\">\n",
       "      <th></th>\n",
       "      <th>Team-won</th>\n",
       "      <th>Game-mode</th>\n",
       "      <th>Game-type</th>\n",
       "      <th>pos_strength</th>\n",
       "      <th>neg_strength</th>\n",
       "    </tr>\n",
       "  </thead>\n",
       "  <tbody>\n",
       "    <tr>\n",
       "      <th>0</th>\n",
       "      <td>-1</td>\n",
       "      <td>2</td>\n",
       "      <td>2</td>\n",
       "      <td>2.514413</td>\n",
       "      <td>2.536970</td>\n",
       "    </tr>\n",
       "    <tr>\n",
       "      <th>1</th>\n",
       "      <td>1</td>\n",
       "      <td>2</td>\n",
       "      <td>2</td>\n",
       "      <td>2.555158</td>\n",
       "      <td>2.457343</td>\n",
       "    </tr>\n",
       "    <tr>\n",
       "      <th>2</th>\n",
       "      <td>1</td>\n",
       "      <td>2</td>\n",
       "      <td>2</td>\n",
       "      <td>2.503338</td>\n",
       "      <td>2.445977</td>\n",
       "    </tr>\n",
       "    <tr>\n",
       "      <th>3</th>\n",
       "      <td>1</td>\n",
       "      <td>2</td>\n",
       "      <td>2</td>\n",
       "      <td>2.466827</td>\n",
       "      <td>2.521910</td>\n",
       "    </tr>\n",
       "    <tr>\n",
       "      <th>4</th>\n",
       "      <td>-1</td>\n",
       "      <td>2</td>\n",
       "      <td>3</td>\n",
       "      <td>2.605088</td>\n",
       "      <td>2.531599</td>\n",
       "    </tr>\n",
       "  </tbody>\n",
       "</table>\n",
       "</div>"
      ],
      "text/plain": [
       "   Team-won  Game-mode  Game-type  pos_strength  neg_strength\n",
       "0        -1          2          2      2.514413      2.536970\n",
       "1         1          2          2      2.555158      2.457343\n",
       "2         1          2          2      2.503338      2.445977\n",
       "3         1          2          2      2.466827      2.521910\n",
       "4        -1          2          3      2.605088      2.531599"
      ]
     },
     "execution_count": 12,
     "metadata": {},
     "output_type": "execute_result"
    }
   ],
   "source": [
    "imp_train = train[['Team-won', 'Game-mode', 'Game-type']]\n",
    "imp_train.insert(3, 'pos_strength', pos_strength)\n",
    "imp_train.insert(4, 'neg_strength', neg_strength)\n",
    "imp_train.head()"
   ]
  },
  {
   "cell_type": "code",
   "execution_count": 13,
   "metadata": {
    "scrolled": true
   },
   "outputs": [],
   "source": [
    "strength_compute = test.drop(['Team-won', 'Game-mode', 'Game-type'], axis = 1)\n",
    "pos_strength_test = []\n",
    "neg_strength_test = []\n",
    "for i in range (test.shape[0]):\n",
    "    tmp_pos = 0\n",
    "    tmp_neg = 0\n",
    "    pos = strength_compute.loc[i] == 1\n",
    "    neg = strength_compute.loc[i] == -1\n",
    "    for j in range (0,5):\n",
    "        tmp_pos += hero_winrate[int(pos[pos].index[j][4:])]\n",
    "        tmp_neg += hero_winrate[int(neg[neg].index[j][4:])]\n",
    "    pos_strength_test.append(tmp_pos)\n",
    "    neg_strength_test.append(tmp_neg)"
   ]
  },
  {
   "cell_type": "code",
   "execution_count": 14,
   "metadata": {
    "scrolled": true
   },
   "outputs": [
    {
     "data": {
      "text/html": [
       "<div>\n",
       "<style scoped>\n",
       "    .dataframe tbody tr th:only-of-type {\n",
       "        vertical-align: middle;\n",
       "    }\n",
       "\n",
       "    .dataframe tbody tr th {\n",
       "        vertical-align: top;\n",
       "    }\n",
       "\n",
       "    .dataframe thead th {\n",
       "        text-align: right;\n",
       "    }\n",
       "</style>\n",
       "<table border=\"1\" class=\"dataframe\">\n",
       "  <thead>\n",
       "    <tr style=\"text-align: right;\">\n",
       "      <th></th>\n",
       "      <th>Team-won</th>\n",
       "      <th>Game-mode</th>\n",
       "      <th>Game-type</th>\n",
       "      <th>pos_strength</th>\n",
       "      <th>neg_strength</th>\n",
       "    </tr>\n",
       "  </thead>\n",
       "  <tbody>\n",
       "    <tr>\n",
       "      <th>0</th>\n",
       "      <td>-1</td>\n",
       "      <td>8</td>\n",
       "      <td>2</td>\n",
       "      <td>2.494588</td>\n",
       "      <td>2.547145</td>\n",
       "    </tr>\n",
       "    <tr>\n",
       "      <th>1</th>\n",
       "      <td>1</td>\n",
       "      <td>8</td>\n",
       "      <td>2</td>\n",
       "      <td>2.496447</td>\n",
       "      <td>2.458664</td>\n",
       "    </tr>\n",
       "    <tr>\n",
       "      <th>2</th>\n",
       "      <td>-1</td>\n",
       "      <td>2</td>\n",
       "      <td>2</td>\n",
       "      <td>2.569870</td>\n",
       "      <td>2.453287</td>\n",
       "    </tr>\n",
       "    <tr>\n",
       "      <th>3</th>\n",
       "      <td>1</td>\n",
       "      <td>2</td>\n",
       "      <td>2</td>\n",
       "      <td>2.472009</td>\n",
       "      <td>2.326554</td>\n",
       "    </tr>\n",
       "    <tr>\n",
       "      <th>4</th>\n",
       "      <td>1</td>\n",
       "      <td>2</td>\n",
       "      <td>3</td>\n",
       "      <td>2.356313</td>\n",
       "      <td>2.508575</td>\n",
       "    </tr>\n",
       "  </tbody>\n",
       "</table>\n",
       "</div>"
      ],
      "text/plain": [
       "   Team-won  Game-mode  Game-type  pos_strength  neg_strength\n",
       "0        -1          8          2      2.494588      2.547145\n",
       "1         1          8          2      2.496447      2.458664\n",
       "2        -1          2          2      2.569870      2.453287\n",
       "3         1          2          2      2.472009      2.326554\n",
       "4         1          2          3      2.356313      2.508575"
      ]
     },
     "execution_count": 14,
     "metadata": {},
     "output_type": "execute_result"
    }
   ],
   "source": [
    "imp_test = test[['Team-won', 'Game-mode', 'Game-type']]\n",
    "imp_test.insert(3, 'pos_strength', pos_strength_test)\n",
    "imp_test.insert(4, 'neg_strength', neg_strength_test)\n",
    "imp_test.head()"
   ]
  },
  {
   "cell_type": "code",
   "execution_count": 15,
   "metadata": {},
   "outputs": [],
   "source": [
    "train_x = train.drop('Team-won', axis = 1)\n",
    "train_y = train['Team-won']\n",
    "test_x = test.drop('Team-won', axis = 1)\n",
    "test_y = test['Team-won']\n",
    "imp_train_x = imp_train.drop('Team-won', axis = 1)\n",
    "imp_train_y = imp_train['Team-won']\n",
    "imp_test_x = imp_test.drop('Team-won', axis = 1)\n",
    "imp_test_y = imp_test['Team-won']"
   ]
  },
  {
   "cell_type": "code",
   "execution_count": 16,
   "metadata": {},
   "outputs": [],
   "source": [
    "imp_test.to_csv(\"imp_test.csv\", index = False)\n",
    "imp_train.to_csv(\"imp_train.csv\", index = False)"
   ]
  },
  {
   "cell_type": "markdown",
   "metadata": {},
   "source": [
    "## Training\n",
    "\n",
    "In the process I tried, lots of model make my jupyter no response(KNeighborsClassifier, SVC...)\n",
    "\n",
    "On my opinion, it maybe the memory is full cause data set is gigantic.\n",
    "\n",
    "maybe smaller data set would have better result.\n",
    "\n",
    "so below models is almost the most models I can use.\n",
    "\n",
    "The combination of feature just make 0.06~0.07 improve of correcness.\n",
    "\n",
    "However, it is weird that in MLPClassifier, improvement data is lower than origin.\n",
    "\n",
    "If I have time, I would try other parameter of these model.\n",
    "\n",
    "Unfortunately, I am very sleepy right now, and sun is raised.\n",
    "\n",
    "I can't do anythinf at all."
   ]
  },
  {
   "cell_type": "code",
   "execution_count": 17,
   "metadata": {},
   "outputs": [
    {
     "data": {
      "text/plain": [
       "0.5434233534097532"
      ]
     },
     "execution_count": 17,
     "metadata": {},
     "output_type": "execute_result"
    }
   ],
   "source": [
    "dtree = DecisionTreeClassifier(max_depth = 5)\n",
    "dtree.fit(train_x, train_y)\n",
    "dtree.score(test_x, test_y)"
   ]
  },
  {
   "cell_type": "code",
   "execution_count": 18,
   "metadata": {},
   "outputs": [
    {
     "data": {
      "text/plain": [
       "0.5941325043714786"
      ]
     },
     "execution_count": 18,
     "metadata": {},
     "output_type": "execute_result"
    }
   ],
   "source": [
    "dtree = DecisionTreeClassifier(max_depth = 5)\n",
    "dtree.fit(imp_train_x, imp_train_y)\n",
    "dtree.score(imp_test_x, imp_test_y)"
   ]
  },
  {
   "cell_type": "code",
   "execution_count": 19,
   "metadata": {
    "scrolled": true
   },
   "outputs": [
    {
     "data": {
      "text/plain": [
       "0.5399261705848066"
      ]
     },
     "execution_count": 19,
     "metadata": {},
     "output_type": "execute_result"
    }
   ],
   "source": [
    "model = RandomForestClassifier(max_depth=10, n_estimators=10, max_features=1)\n",
    "model.fit(train_x, train_y)\n",
    "model.score(test_x, test_y)"
   ]
  },
  {
   "cell_type": "code",
   "execution_count": 20,
   "metadata": {},
   "outputs": [
    {
     "data": {
      "text/plain": [
       "0.5944239362735574"
      ]
     },
     "execution_count": 20,
     "metadata": {},
     "output_type": "execute_result"
    }
   ],
   "source": [
    "model = RandomForestClassifier(max_depth=5, n_estimators=12, max_features='auto')\n",
    "model.fit(imp_train_x, imp_train_y)\n",
    "model.score(imp_test_x, imp_test_y)"
   ]
  },
  {
   "cell_type": "code",
   "execution_count": 21,
   "metadata": {},
   "outputs": [
    {
     "data": {
      "text/plain": [
       "0.5944239362735574"
      ]
     },
     "execution_count": 21,
     "metadata": {},
     "output_type": "execute_result"
    }
   ],
   "source": [
    "model = MLPClassifier(alpha=0.0001, max_iter=1000)\n",
    "model.fit(train_x, train_y)\n",
    "model.score(test_x, test_y)"
   ]
  },
  {
   "cell_type": "code",
   "execution_count": 22,
   "metadata": {},
   "outputs": [
    {
     "data": {
      "text/plain": [
       "0.5854866912764717"
      ]
     },
     "execution_count": 22,
     "metadata": {},
     "output_type": "execute_result"
    }
   ],
   "source": [
    "model = MLPClassifier(alpha=0.0001, max_iter=1000)\n",
    "model.fit(imp_train_x, imp_train_y)\n",
    "model.score(imp_test_x, imp_test_y)"
   ]
  },
  {
   "cell_type": "code",
   "execution_count": null,
   "metadata": {},
   "outputs": [],
   "source": []
  }
 ],
 "metadata": {
  "kernelspec": {
   "display_name": "Python 3",
   "language": "python",
   "name": "python3"
  },
  "language_info": {
   "codemirror_mode": {
    "name": "ipython",
    "version": 3
   },
   "file_extension": ".py",
   "mimetype": "text/x-python",
   "name": "python",
   "nbconvert_exporter": "python",
   "pygments_lexer": "ipython3",
   "version": "3.6.7"
  }
 },
 "nbformat": 4,
 "nbformat_minor": 2
}
